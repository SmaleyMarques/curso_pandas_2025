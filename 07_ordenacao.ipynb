{
 "cells": [
  {
   "cell_type": "markdown",
   "id": "26409567",
   "metadata": {},
   "source": [
    "## Ordenação de dados no Pandas\n",
    "\n",
    "### Ordenando Series e Dataframes"
   ]
  },
  {
   "cell_type": "code",
   "execution_count": 1,
   "id": "08938b83",
   "metadata": {},
   "outputs": [],
   "source": [
    "# Importando bibliotécas\n",
    "\n",
    "import pandas as pd\n"
   ]
  },
  {
   "cell_type": "code",
   "execution_count": 2,
   "id": "b4a8da94",
   "metadata": {},
   "outputs": [
    {
     "data": {
      "text/plain": [
       "1611        0\n",
       "1914        0\n",
       "1541        0\n",
       "781         0\n",
       "1918        0\n",
       "        ...  \n",
       "304     12209\n",
       "663     12670\n",
       "449     13232\n",
       "1226    15296\n",
       "792     30799\n",
       "Name: qtdePontos, Length: 2436, dtype: int64"
      ]
     },
     "execution_count": 2,
     "metadata": {},
     "output_type": "execute_result"
    }
   ],
   "source": [
    "# Ordenando Series\n",
    "\n",
    "clientes = pd.read_csv(\"../data/clientes.csv\")\n",
    "\n",
    "clientes['qtdePontos'].sort_values() # ordena valores de uma Series"
   ]
  },
  {
   "cell_type": "code",
   "execution_count": 6,
   "id": "11c7c4c8",
   "metadata": {},
   "outputs": [
    {
     "name": "stdout",
     "output_type": "stream",
     "text": [
      "Top 5 Ids em relação a quantidade de pontos:  \n",
      " 792     4fade907-6e0f-4581-a674-aad6622b1b10\n",
      "1226    803debdb-8136-4cb5-af29-dcd8db36bf2c\n",
      "449     2a9d4ba3-4c58-47f9-8dc4-6f9cb50be1b1\n",
      "663     41f925fd-9aa0-4043-9774-212c538133cc\n",
      "304     1b08989c-039d-4c82-879b-0f56159a1ebb\n",
      "Name: idCliente, dtype: object\n"
     ]
    }
   ],
   "source": [
    "# Ordenando Dataframes a partir de uma coluna\n",
    "\n",
    "top_5 = (clientes.sort_values(by='qtdePontos', ascending=False)\n",
    "                 .head(5)['idCliente'])\n",
    "print(\"Top 5 Ids em relação a quantidade de pontos: \",'\\n',top_5)"
   ]
  },
  {
   "cell_type": "code",
   "execution_count": 7,
   "id": "756a24e2",
   "metadata": {},
   "outputs": [
    {
     "name": "stdout",
     "output_type": "stream",
     "text": [
      "0      Smaley\n",
      "1    Jeniffer\n",
      "2      Evelyn\n",
      "3       Kevin\n",
      "Name: nome, dtype: object \n",
      "\n",
      "1    Jeniffer\n",
      "0      Smaley\n",
      "2      Evelyn\n",
      "3       Kevin\n",
      "Name: nome, dtype: object \n",
      "\n",
      "0      Smaley\n",
      "1    Jeniffer\n",
      "2      Evelyn\n",
      "3       Kevin\n",
      "Name: nome, dtype: object\n"
     ]
    }
   ],
   "source": [
    "# Ordenando Dataframes a partir de mais de uma coluna\n",
    "\n",
    "df_exemplo = {\n",
    "    'nome': ['Smaley','Jeniffer', 'Evelyn', 'Kevin'],\n",
    "    'idade': [32, 31, 12, 5],\n",
    "    'pontos': [100, 100, 90, 80]\n",
    "}\n",
    "\n",
    "df_exemplo = pd.DataFrame(df_exemplo)\n",
    "\n",
    "# Ordenando df por coluna pontos, desempate - coluna idade\n",
    "\n",
    "desempate = (df_exemplo\n",
    "                .sort_values(by=['pontos', 'idade'] , ascending=False)\n",
    "                .head(4)['nome'])\n",
    "\n",
    "print(desempate, '\\n')\n",
    "\n",
    "# Ordenando df por coluna pontos, desempate - coluna MENOR idade\n",
    "\n",
    "desempate_x = (df_exemplo\n",
    "                .sort_values(by=['pontos', 'idade'] , ascending=[False, True])\n",
    "                .head(4)['nome'])\n",
    "\n",
    "print(desempate_x, '\\n')\n",
    "\n",
    "# Ordenando df por coluna pontos, desempate - coluna MENOR índice\n",
    "\n",
    "desempate_id = (df_exemplo\n",
    "             .reset_index()\n",
    "             .sort_values(by=['pontos', 'index'] , ascending=[False, True])\n",
    "             .head(4)['nome'])\n",
    "\n",
    "print(desempate_id)"
   ]
  }
 ],
 "metadata": {
  "jupytext": {
   "cell_metadata_filter": "-all",
   "main_language": "python",
   "notebook_metadata_filter": "-all"
  },
  "kernelspec": {
   "display_name": "base",
   "language": "python",
   "name": "python3"
  },
  "language_info": {
   "codemirror_mode": {
    "name": "ipython",
    "version": 3
   },
   "file_extension": ".py",
   "mimetype": "text/x-python",
   "name": "python",
   "nbconvert_exporter": "python",
   "pygments_lexer": "ipython3",
   "version": "3.12.7"
  }
 },
 "nbformat": 4,
 "nbformat_minor": 5
}
