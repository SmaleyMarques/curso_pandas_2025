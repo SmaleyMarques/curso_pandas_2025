{
 "cells": [
  {
   "cell_type": "markdown",
   "id": "ae0f6e51",
   "metadata": {},
   "source": [
    "## Tratando dados duplicados no Pandas\n",
    "\n",
    "### Usando método .drop_duplicates para excluir valores duplicados"
   ]
  },
  {
   "cell_type": "code",
   "execution_count": 2,
   "id": "f8ea13ca",
   "metadata": {},
   "outputs": [],
   "source": [
    "# Importando bibliotécas\n",
    "\n",
    "import pandas as pd"
   ]
  },
  {
   "cell_type": "code",
   "execution_count": 8,
   "id": "2eaa2fe0",
   "metadata": {
    "lines_to_next_cell": 0
   },
   "outputs": [
    {
     "name": "stdout",
     "output_type": "stream",
     "text": [
      ".drop_duplicates():\n",
      "        nome sobrenome  altura\n",
      "0    Smaley  Ferreira    1.70\n",
      "1  Jeniffer    Amorim    1.65\n",
      "2  Jeniffer   Marques    1.65\n",
      "3    Evelyn   Marques    1.58\n",
      "5    Smaley   Marques    1.71\n",
      "6     Kevin   Marques    1.25 \n",
      "\n",
      ".drop_duplicates('nome'):\n",
      "        nome sobrenome  altura\n",
      "0    Smaley  Ferreira    1.70\n",
      "1  Jeniffer    Amorim    1.65\n",
      "3    Evelyn   Marques    1.58\n",
      "6     Kevin   Marques    1.25 \n",
      "\n",
      ".drop_duplicates('nome', keep='last'):\n",
      "        nome sobrenome  altura\n",
      "2  Jeniffer   Marques    1.65\n",
      "4    Evelyn   Marques    1.58\n",
      "5    Smaley   Marques    1.71\n",
      "6     Kevin   Marques    1.25 \n",
      "\n"
     ]
    }
   ],
   "source": [
    "# drop_duplicates\n",
    "\n",
    "df = pd.DataFrame(\n",
    "    {\n",
    "        'nome': ['Smaley', 'Jeniffer', 'Jeniffer', 'Evelyn', 'Evelyn', 'Smaley', 'Kevin'],\n",
    "        'sobrenome': ['Ferreira', 'Amorim', 'Marques', 'Marques','Marques', 'Marques', 'Marques'],\n",
    "        'altura': [1.70, 1.65, 1.65, 1.58, 1.58, 1.71, 1.25]\n",
    "    }\n",
    ")\n",
    "\n",
    "# Excluindo linhas que apresentem valores duplicados em todas as colunas\n",
    "\n",
    "df_dropd_all = df.copy()\n",
    "\n",
    "df_dropd_all = df_dropd_all.drop_duplicates()\n",
    "\n",
    "print(\".drop_duplicates():\\n\",df_dropd_all,'\\n')\n",
    "\n",
    "# Excluindo linhas que apresentem valores duplicados na coluna nome\n",
    "\n",
    "df_dropd_nome = df.copy()\n",
    "\n",
    "df_dropd_nome = df_dropd_nome.drop_duplicates('nome')\n",
    "\n",
    "print(\".drop_duplicates('nome'):\\n\",df_dropd_nome,'\\n')\n",
    "\n",
    "# Excluindo linhas que apresentem valores duplicados na coluna nome, mantendo ultima ocorrência\n",
    "\n",
    "df_dropd_nome = df.copy()\n",
    "\n",
    "df_dropd_nome = df_dropd_nome.drop_duplicates('nome', keep='last')\n",
    "\n",
    "print(\".drop_duplicates('nome', keep='last'):\\n\",df_dropd_nome,'\\n')"
   ]
  },
  {
   "cell_type": "code",
   "execution_count": 11,
   "id": "afb7aa42",
   "metadata": {},
   "outputs": [
    {
     "name": "stdout",
     "output_type": "stream",
     "text": [
      ".drop_duplicates(subset=['nome', 'altura'], keep='last'):\n",
      "        nome sobrenome  altura\n",
      "0    Smaley  Ferreira    1.70\n",
      "2  Jeniffer   Marques    1.65\n",
      "4    Evelyn   Marques    1.58\n",
      "5    Smaley   Marques    1.71\n",
      "6     Kevin   Marques    1.25 \n",
      "\n"
     ]
    }
   ],
   "source": [
    "# Excluindo linhas que apresentem valores duplicados nas colunas 'nome' e 'altura', mantendo ultima ocorrência de ambos\n",
    "\n",
    "df_dropd_nome_alt = df.copy()\n",
    "\n",
    "df_dropd_nome_alt = df_dropd_nome_alt.drop_duplicates(subset=['nome', 'altura'], keep='last')\n",
    "\n",
    "print(\".drop_duplicates(subset=['nome', 'altura'], keep='last'):\\n\",df_dropd_nome_alt,'\\n')"
   ]
  }
 ],
 "metadata": {
  "jupytext": {
   "cell_metadata_filter": "-all",
   "main_language": "python",
   "notebook_metadata_filter": "-all"
  },
  "kernelspec": {
   "display_name": "base",
   "language": "python",
   "name": "python3"
  },
  "language_info": {
   "codemirror_mode": {
    "name": "ipython",
    "version": 3
   },
   "file_extension": ".py",
   "mimetype": "text/x-python",
   "name": "python",
   "nbconvert_exporter": "python",
   "pygments_lexer": "ipython3",
   "version": "3.12.7"
  }
 },
 "nbformat": 4,
 "nbformat_minor": 5
}
