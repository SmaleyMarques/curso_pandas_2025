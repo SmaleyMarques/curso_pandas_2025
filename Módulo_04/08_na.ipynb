{
 "cells": [
  {
   "cell_type": "markdown",
   "id": "214c8148",
   "metadata": {},
   "source": [
    "## Tratando dados ausentes no Pandas\n",
    "\n",
    "### Usando métodos .dropna() e .fillna() para excluir e/ou preencher valores ausentes"
   ]
  },
  {
   "cell_type": "code",
   "execution_count": 1,
   "id": "77a2ab96",
   "metadata": {
    "lines_to_next_cell": 0
   },
   "outputs": [],
   "source": [
    "# Importando bibliotécas\n",
    "\n",
    "import pandas as pd"
   ]
  },
  {
   "cell_type": "code",
   "execution_count": 7,
   "id": "4b75daae",
   "metadata": {},
   "outputs": [
    {
     "name": "stdout",
     "output_type": "stream",
     "text": [
      "       nome  idade  altura\n",
      "0      None    NaN    1.70\n",
      "1  Jeniffer    NaN    1.75\n",
      "2    Evelyn   12.0     NaN\n",
      "3     Kevin    5.0    1.25\n",
      "4      None    NaN     NaN \n",
      "\n",
      ".dropna(how='any'):\n",
      "     nome  idade  altura\n",
      "3  Kevin    5.0    1.25 \n",
      "\n",
      ".dropna(how='all'):\n",
      "        nome  idade  altura\n",
      "0      None    NaN    1.70\n",
      "1  Jeniffer    NaN    1.75\n",
      "2    Evelyn   12.0     NaN\n",
      "3     Kevin    5.0    1.25 \n",
      "\n",
      ".dropna(how='all', subset=['idade']): \n",
      "      nome  idade  altura\n",
      "2  Evelyn   12.0     NaN\n",
      "3   Kevin    5.0    1.25 \n",
      "\n",
      ".dropna(how='any', subset=['nome', 'idade']:\n",
      "      nome  idade  altura\n",
      "2  Evelyn   12.0     NaN\n",
      "3   Kevin    5.0    1.25 \n",
      "\n"
     ]
    }
   ],
   "source": [
    "# dropna\n",
    "\n",
    "df = pd.DataFrame(\n",
    "    {\n",
    "        'nome': [None, 'Jeniffer', 'Evelyn', 'Kevin', None],\n",
    "        'idade': [None, None, 12, 5, None],\n",
    "        'altura': [1.70, 1.75, None, 1.25, None]\n",
    "    }\n",
    ")\n",
    "\n",
    "print(df, '\\n')\n",
    "\n",
    "# Excluindo linhas que apresentem qualquer uma coluna com valor nulo ou ausente\n",
    "\n",
    "df_na_total = df.dropna()\n",
    "\n",
    "print(\".dropna(how='any'):\\n\",df_na_total, '\\n')\n",
    "\n",
    "# Excluindo linhas que apresentam valores nulos ou ausentes em todas as colunas\n",
    "\n",
    "df_na_parcial = df.dropna(how='all')\n",
    "\n",
    "print(\".dropna(how='all'):\\n\",df_na_parcial, '\\n')\n",
    "\n",
    "# Excluindo linhas que apresentam somente valores nulos ou ausentes na coluna 'idade'\n",
    "\n",
    "df_na_idade = df.dropna(how='all', subset=['idade'])\n",
    "print(\".dropna(how='all', subset=['idade']): \\n\",df_na_idade, '\\n')\n",
    "\n",
    "# Excluindo linhas que apresentam qualquer uma coluna com valores nulos ou ausentes entre as colunas 'idade' e 'nome'\n",
    "\n",
    "df_na_idade_nome = df.dropna(how='any', subset=['nome', 'idade'])\n",
    "print(\".dropna(how='any', subset=['nome', 'idade']:\\n\",df_na_idade_nome, '\\n')"
   ]
  },
  {
   "cell_type": "code",
   "execution_count": 14,
   "id": "dfd528f5",
   "metadata": {
    "lines_to_next_cell": 0
   },
   "outputs": [
    {
     "name": "stdout",
     "output_type": "stream",
     "text": [
      ".fillna(0):\n",
      "        nome  idade  altura\n",
      "0      None    0.0    1.70\n",
      "1  Jeniffer    0.0    1.75\n",
      "2    Evelyn   12.0     NaN\n",
      "3     Kevin    5.0    1.25\n",
      "4      None    0.0     NaN \n",
      "\n",
      ".fillna('-'):\n",
      "        nome  idade altura\n",
      "0         -    0.0    1.7\n",
      "1  Jeniffer    0.0   1.75\n",
      "2    Evelyn   12.0      -\n",
      "3     Kevin    5.0   1.25\n",
      "4         -    0.0      - \n",
      "\n",
      ".fillna({'nome': '-', 'idade': 0}):\n",
      "        nome  idade  altura\n",
      "0         -    0.0    1.70\n",
      "1  Jeniffer    0.0    1.75\n",
      "2    Evelyn   12.0     NaN\n",
      "3     Kevin    5.0    1.25\n",
      "4         -    0.0     NaN \n",
      "\n"
     ]
    }
   ],
   "source": [
    "# fillna\n",
    "\n",
    "# Preenchendo valores nulos ou ausentes com '0' na coluna 'idade'\n",
    "\n",
    "df_fill = df.copy()\n",
    "\n",
    "df_fill['idade'] = df_fill['idade'].fillna(0)\n",
    "\n",
    "print(\".fillna(0):\\n\",df_fill, '\\n') \n",
    "\n",
    "# Preenchendo valores nulos ou ausentes com '-' em qualquer coluna\n",
    "\n",
    "df_fill = df_fill.fillna('-')\n",
    "\n",
    "print(\".fillna('-'):\\n\",df_fill, '\\n')\n",
    "\n",
    "# Preenchendo valores nulos ou ausentes passando instruções num dicionário\n",
    "\n",
    "df_fill2= df.copy()\n",
    "\n",
    "df_fill2 = df_fill2.fillna({'nome': '-', 'idade': 0})\n",
    "\n",
    "print(\".fillna({'nome': '-', 'idade': 0}):\\n\",df_fill2, '\\n')\n"
   ]
  },
  {
   "cell_type": "code",
   "execution_count": 15,
   "id": "55588c28",
   "metadata": {},
   "outputs": [
    {
     "name": "stdout",
     "output_type": "stream",
     "text": [
      "fillna(medias):\n",
      "        nome  idade    altura\n",
      "0      None    8.5  1.700000\n",
      "1  Jeniffer    8.5  1.750000\n",
      "2    Evelyn   12.0  1.566667\n",
      "3     Kevin    5.0  1.250000\n",
      "4      None    8.5  1.566667 \n",
      "\n"
     ]
    }
   ],
   "source": [
    "# Preenchendo valores nulos ou ausentes passando média de valores\n",
    "\n",
    "df_fill3 = df.copy()\n",
    "\n",
    "medias = df[['idade', 'altura']].mean()\n",
    "\n",
    "df_fill3 = df_fill3.fillna(medias)\n",
    "\n",
    "print(\"fillna(medias):\\n\",df_fill3, '\\n')"
   ]
  }
 ],
 "metadata": {
  "jupytext": {
   "cell_metadata_filter": "-all",
   "main_language": "python",
   "notebook_metadata_filter": "-all"
  },
  "kernelspec": {
   "display_name": "base",
   "language": "python",
   "name": "python3"
  },
  "language_info": {
   "codemirror_mode": {
    "name": "ipython",
    "version": 3
   },
   "file_extension": ".py",
   "mimetype": "text/x-python",
   "name": "python",
   "nbconvert_exporter": "python",
   "pygments_lexer": "ipython3",
   "version": "3.12.7"
  }
 },
 "nbformat": 4,
 "nbformat_minor": 5
}
