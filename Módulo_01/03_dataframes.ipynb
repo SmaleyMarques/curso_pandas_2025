{
 "cells": [
  {
   "cell_type": "code",
   "execution_count": null,
   "id": "234532f9",
   "metadata": {
    "lines_to_next_cell": 0
   },
   "outputs": [],
   "source": [
    "import pandas as pd\n",
    "\n",
    "idades = [\n",
    "    32, 38, 30, 30, 31,\n",
    "    35, 25, 29, 31, 37,\n",
    "    27, 23, 36, 33, 39\n",
    "]\n",
    "\n",
    "letras = [\n",
    "    'a', 'b', 'c', 'd', 'e',\n",
    "    'f', 'g', 'h', 'i', 'j',\n",
    "    'k', 'l', 'm', 'n', 'o'\n",
    "]\n",
    "\n",
    "series_idades = pd.Series(idades)\n",
    "series_letras = pd.Series(letras)"
   ]
  },
  {
   "cell_type": "code",
   "execution_count": null,
   "id": "024a5ec9",
   "metadata": {
    "lines_to_next_cell": 0
   },
   "outputs": [],
   "source": [
    " \n",
    "df = pd.DataFrame() # Criando dataframe vazio\n",
    "\n",
    "df['idades'] = series_idades\n",
    "df['letras'] = series_letras\n",
    "\n",
    "df"
   ]
  },
  {
   "cell_type": "code",
   "execution_count": null,
   "id": "16c3e499",
   "metadata": {},
   "outputs": [],
   "source": [
    "\n",
    "df['letras']"
   ]
  }
 ],
 "metadata": {
  "jupytext": {
   "cell_metadata_filter": "-all",
   "main_language": "python",
   "notebook_metadata_filter": "-all"
  }
 },
 "nbformat": 4,
 "nbformat_minor": 5
}
