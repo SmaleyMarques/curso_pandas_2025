{
 "cells": [
  {
   "cell_type": "markdown",
   "id": "ed418e9e",
   "metadata": {},
   "source": [
    "## DataFrames no Pandas\n",
    "\n",
    "### Características:\n",
    "\n",
    "- Conjunto de Valores bidimensional\n",
    "- Agrupamento de Series Pandas\n",
    "- Ordenado - A ordem defini o índices dos elementos\n",
    "- Comportamento parecido com Tabelas\n",
    "- Estrutura mais usada em manipulação de dados"
   ]
  },
  {
   "cell_type": "code",
   "execution_count": 40,
   "id": "234532f9",
   "metadata": {
    "lines_to_next_cell": 0
   },
   "outputs": [],
   "source": [
    "# Importando bilibotécas\n",
    "\n",
    "import pandas as pd "
   ]
  },
  {
   "cell_type": "code",
   "execution_count": 41,
   "id": "45253643",
   "metadata": {},
   "outputs": [
    {
     "name": "stdout",
     "output_type": "stream",
     "text": [
      "    idades letras\n",
      "0       32      a\n",
      "1       38      b\n",
      "2       30      c\n",
      "3       30      d\n",
      "4       31      e\n",
      "5       35      f\n",
      "6       25      g\n",
      "7       29      h\n",
      "8       31      i\n",
      "9       37      j\n",
      "10      27      k\n",
      "11      23      l\n",
      "12      36      m\n",
      "13      33      n\n",
      "14      39      o\n"
     ]
    }
   ],
   "source": [
    "# CRIANÇÃO\n",
    "\n",
    "df_pandas = pd.DataFrame() #Explícta apenas\n",
    "\n",
    "idades = [\n",
    "    32, 38, 30, 30, 31,\n",
    "    35, 25, 29, 31, 37,\n",
    "    27, 23, 36, 33, 39\n",
    "]\n",
    "\n",
    "letras = [\n",
    "    'a', 'b', 'c', 'd', 'e',\n",
    "    'f', 'g', 'h', 'i', 'j',\n",
    "    'k', 'l', 'm', 'n', 'o'\n",
    "]\n",
    "\n",
    "series_idades = pd.Series(idades)\n",
    "series_letras = pd.Series(letras)\n",
    "\n",
    "# Criando e atribuindo dados no dataframe\n",
    "\n",
    "df_pandas['idades'] = series_idades\n",
    "df_pandas['letras'] = series_letras\n",
    "\n",
    "print(df_pandas)"
   ]
  },
  {
   "cell_type": "markdown",
   "id": "1b559a2f",
   "metadata": {},
   "source": [
    "### Navegando nos dados:\n",
    "\n",
    "- `dataframe[ i ]` - Acessa Campos/Colunas a partir do nome do campo \n",
    "- `dataframe.loc[ i ]` - Acessa Registros/Linhas a partir do índice\n",
    "- `dataframe.iloc[ i ]` - Acessa Registros/Linhas a partir da Posição"
   ]
  },
  {
   "cell_type": "code",
   "execution_count": 42,
   "id": "8a69e622",
   "metadata": {},
   "outputs": [
    {
     "name": "stdout",
     "output_type": "stream",
     "text": [
      "df na coluna de nome \"letras\": \n",
      " 0     a\n",
      "1     b\n",
      "2     c\n",
      "3     d\n",
      "4     e\n",
      "5     f\n",
      "6     g\n",
      "7     h\n",
      "8     i\n",
      "9     j\n",
      "10    k\n",
      "11    l\n",
      "12    m\n",
      "13    n\n",
      "14    o\n",
      "Name: letras, dtype: object \n",
      "\n",
      "df na coluna de nome \"idades\": \n",
      " 0     32\n",
      "1     38\n",
      "2     30\n",
      "3     30\n",
      "4     31\n",
      "5     35\n",
      "6     25\n",
      "7     29\n",
      "8     31\n",
      "9     37\n",
      "10    27\n",
      "11    23\n",
      "12    36\n",
      "13    33\n",
      "14    39\n",
      "Name: idades, dtype: int64 \n",
      "\n"
     ]
    }
   ],
   "source": [
    "# dataframe[ i ] \n",
    "\n",
    "navega_df = df_pandas['letras']\n",
    "print('df na coluna de nome \"letras\":', '\\n', navega_df, '\\n') \n",
    "\n",
    "navega_df = df_pandas['idades']\n",
    "print('df na coluna de nome \"idades\":', '\\n', navega_df, '\\n') \n"
   ]
  },
  {
   "cell_type": "code",
   "execution_count": 43,
   "id": "8a548057",
   "metadata": {},
   "outputs": [
    {
     "name": "stdout",
     "output_type": "stream",
     "text": [
      "      idades letras\n",
      "i         32      a\n",
      "ii        38      b\n",
      "iii       30      c\n",
      "iv        30      d\n",
      "v         31      e\n",
      "vi        35      f\n",
      "vii       25      g\n",
      "viii      29      h\n",
      "ix        31      i\n",
      "x         37      j\n",
      "xi        27      k\n",
      "xii       23      l\n",
      "xiii      36      m\n",
      "xiv       33      n\n",
      "xv        39      o \n",
      "\n",
      "df na linha de índice \"xii\": \n",
      " idades    23\n",
      "letras     l\n",
      "Name: xii, dtype: object\n"
     ]
    }
   ],
   "source": [
    "# dataframe.loc[ i ] \n",
    "\n",
    "indexs = [\n",
    "    'i', 'ii', 'iii', 'iv', 'v',\n",
    "    'vi', 'vii', 'viii', 'ix', 'x',\n",
    "    'xi', 'xii', 'xiii', 'xiv', 'xv'\n",
    "]\n",
    "\n",
    "df_pandas.index = indexs # Alterando index\n",
    "print(df_pandas, '\\n')\n",
    "\n",
    "navega_df = df_pandas.loc['xii']\n",
    "print('df na linha de índice \"xii\":', '\\n', navega_df) # Acessa índice da linha\n"
   ]
  },
  {
   "cell_type": "code",
   "execution_count": 44,
   "id": "719513e1",
   "metadata": {},
   "outputs": [
    {
     "name": "stdout",
     "output_type": "stream",
     "text": [
      "df na linha da primeira posição: \n",
      " idades    32\n",
      "letras     a\n",
      "Name: i, dtype: object\n",
      "\n",
      " df na linha da penultima posição: \n",
      " idades    33\n",
      "letras     n\n",
      "Name: xiv, dtype: object\n"
     ]
    }
   ],
   "source": [
    "# dataframe.iloc[ i ] \n",
    "\n",
    "navega_df = df_pandas.iloc[0]\n",
    "print('df na linha da primeira posição:', '\\n', navega_df) # Acessa posição da linha\n",
    "\n",
    "navega_df = df_pandas.iloc[-2]\n",
    "print('\\n', 'df na linha da penultima posição:', '\\n', navega_df)"
   ]
  },
  {
   "cell_type": "markdown",
   "id": "fe07963c",
   "metadata": {},
   "source": [
    "### Outras formas úteis de navegação:\n",
    "\n",
    "- `dataframe.loc[ i, \"coluna\" ]` - Acessa um valor específico a partir do índice da linha e nome da coluna \n",
    "- `dataframe.iloc[ i, j ]` - Acessa um valor específico pela posição numérica da linha e da coluna\n",
    "- `dataframe.loc[ i : j ]` - Slicer de linhas baseado no índice\n",
    "- `dataframe.iloc[ i : j ]` - Slicer de linhas baseado na posição\n"
   ]
  },
  {
   "cell_type": "code",
   "execution_count": 45,
   "id": "ce0663d2",
   "metadata": {},
   "outputs": [
    {
     "name": "stdout",
     "output_type": "stream",
     "text": [
      "valor no índice 'v' e na coluna 'letras': \n",
      " e\n",
      "valor no índice 'x' e na coluna 'letras': \n",
      " j\n",
      "valor na linha posição 5 e na coluna de posição 1: \n",
      " f\n",
      "valor na última posição e na coluna de posição 0 \n",
      " 39\n"
     ]
    }
   ],
   "source": [
    "# dataframe.loc[ i, \"coluna\" ]\n",
    "\n",
    "navega_valor = df_pandas.loc['v', 'letras']\n",
    "print(\"valor no índice 'v' e na coluna 'letras':\", '\\n', navega_valor)\n",
    "\n",
    "navega_valor = df_pandas.loc['x', 'letras']\n",
    "print(\"valor no índice 'x' e na coluna 'letras':\", '\\n', navega_valor)\n",
    "\n",
    "# dataframe.iloc[ i, j ]\n",
    "\n",
    "navega_valor = df_pandas.iloc[5, 1]\n",
    "print(\"valor na linha posição 5 e na coluna de posição 1:\", '\\n', navega_valor)\n",
    "\n",
    "navega_valor = df_pandas.iloc[-1, 0]\n",
    "print(\"valor na última posição e na coluna de posição 0\", '\\n', navega_valor)\n"
   ]
  },
  {
   "cell_type": "code",
   "execution_count": 46,
   "id": "bb46ee1b",
   "metadata": {},
   "outputs": [
    {
     "name": "stdout",
     "output_type": "stream",
     "text": [
      "linhas do índice 'viii' ao índice 'xiii': \n",
      "       idades letras\n",
      "viii      29      h\n",
      "ix        31      i\n",
      "x         37      j\n",
      "xi        27      k\n",
      "xii       23      l\n",
      "xiii      36      m \n",
      "\n",
      "linhas do índice 'x' ao índice 'xv': \n",
      "       idades letras\n",
      "x         37      j\n",
      "xi        27      k\n",
      "xii       23      l\n",
      "xiii      36      m\n",
      "xiv       33      n\n",
      "xv        39      o \n",
      "\n",
      "linhas do índice 'iii' ao índice 'i': \n",
      "      idades letras\n",
      "iii      30      c\n",
      "ii       38      b\n",
      "i        32      a \n",
      "\n",
      "linhas do índice 'i' ao índice 'ii' na coluna 'letras': \n",
      " i     a\n",
      "ii    b\n",
      "Name: letras, dtype: object \n",
      "\n"
     ]
    }
   ],
   "source": [
    "# dataframe.loc[ i : j ]\n",
    "\n",
    "navega_slice = df_pandas.loc['viii': 'xiii']\n",
    "print(\"linhas do índice 'viii' ao índice 'xiii':\", '\\n', navega_slice, '\\n')\n",
    "\n",
    "navega_slice = df_pandas.loc['x':'xv']\n",
    "print(\"linhas do índice 'x' ao índice 'xv':\", '\\n', navega_slice, '\\n')\n",
    "\n",
    "navega_slice = df_pandas.loc['iii':'i':-1]\n",
    "print(\"linhas do índice 'iii' ao índice 'i':\", '\\n', navega_slice, '\\n') # Reverse\n",
    "\n",
    "navega_slice = df_pandas.loc['i':'ii':,'letras']\n",
    "print(\"linhas do índice 'i' ao índice 'ii' na coluna 'letras':\", '\\n', navega_slice, '\\n')\n"
   ]
  },
  {
   "cell_type": "code",
   "execution_count": 47,
   "id": "ece5388c",
   "metadata": {},
   "outputs": [
    {
     "name": "stdout",
     "output_type": "stream",
     "text": [
      "linhas na posição 7 até posição 9: \n",
      "       idades letras\n",
      "viii      29      h\n",
      "ix        31      i\n",
      "x         37      j \n",
      "\n",
      "linhas na posição 2 até posição 7: \n",
      "       idades letras\n",
      "iii       30      c\n",
      "iv        30      d\n",
      "v         31      e\n",
      "vi        35      f\n",
      "vii       25      g\n",
      "viii      29      h \n",
      "\n",
      "linhas na posição 0 até posição 6 pulando um: \n",
      "      idades letras\n",
      "i        32      a\n",
      "iii      30      c\n",
      "v        31      e\n",
      "vii      25      g \n",
      "\n",
      "todas as linhas nas colunas de posição 0 até posição 1: \n",
      "       idades letras\n",
      "i         32      a\n",
      "ii        38      b\n",
      "iii       30      c\n",
      "iv        30      d\n",
      "v         31      e\n",
      "vi        35      f\n",
      "vii       25      g\n",
      "viii      29      h\n",
      "ix        31      i\n",
      "x         37      j\n",
      "xi        27      k\n",
      "xii       23      l\n",
      "xiii      36      m\n",
      "xiv       33      n\n",
      "xv        39      o \n",
      "\n"
     ]
    }
   ],
   "source": [
    "\n",
    "# dataframe.iloc[ i : j ]\n",
    "\n",
    "navega_slice = df_pandas.iloc[7: 10]\n",
    "print(\"linhas na posição 7 até posição 9:\", '\\n', navega_slice, '\\n')\n",
    "\n",
    "navega_slice = df_pandas.iloc[2:8]\n",
    "print(\"linhas na posição 2 até posição 7:\", '\\n', navega_slice, '\\n')\n",
    "\n",
    "navega_slice = df_pandas.iloc[0:7:2]\n",
    "print(\"linhas na posição 0 até posição 6 pulando um:\", '\\n', navega_slice, '\\n') # Jump\n",
    "\n",
    "navega_slice = df_pandas.iloc[::, 0:2]\n",
    "print(\"todas as linhas nas colunas de posição 0 até posição 1:\", '\\n', navega_slice, '\\n')\n"
   ]
  },
  {
   "cell_type": "markdown",
   "id": "a20422c6",
   "metadata": {},
   "source": [
    "### Funções úteis:"
   ]
  },
  {
   "cell_type": "code",
   "execution_count": 48,
   "id": "967cf587",
   "metadata": {},
   "outputs": [
    {
     "name": "stdout",
     "output_type": "stream",
     "text": [
      "Exibindo a quantidade de linhas e colunas com atributo '.shape': \n",
      " (15, 2) \n",
      "\n",
      "Exibindo nomes de colunas em lista com atributo '.columns': \n",
      " Index(['idades', 'letras'], dtype='object') \n",
      "\n",
      "Exibindo labels dos índices com atributo '.index': \n",
      " Index(['i', 'ii', 'iii', 'iv', 'v', 'vi', 'vii', 'viii', 'ix', 'x', 'xi',\n",
      "       'xii', 'xiii', 'xiv', 'xv'],\n",
      "      dtype='object') \n",
      "\n",
      "Exibindo tipagem de dados por coluna com atributo '.dtypes': \n",
      " idades     int64\n",
      "letras    object\n",
      "dtype: object \n",
      "\n"
     ]
    }
   ],
   "source": [
    "# Atributos\n",
    "\n",
    "print(\"Exibindo a quantidade de linhas e colunas com atributo '.shape':\", '\\n', df_pandas.shape, '\\n')\n",
    "\n",
    "print(\"Exibindo nomes de colunas em lista com atributo '.columns':\", '\\n',df_pandas.columns, '\\n') \n",
    "\n",
    "print(\"Exibindo labels dos índices com atributo '.index':\", '\\n',df_pandas.index, '\\n')\n",
    "\n",
    "print(\"Exibindo tipagem de dados por coluna com atributo '.dtypes':\", '\\n',df_pandas.dtypes, '\\n')"
   ]
  },
  {
   "cell_type": "code",
   "execution_count": 49,
   "id": "7983ab68",
   "metadata": {},
   "outputs": [
    {
     "name": "stdout",
     "output_type": "stream",
     "text": [
      "Exibindo primeiras 3 linhas com método '.head(3)': \n",
      "      idades letras\n",
      "i        32      a\n",
      "ii       38      b\n",
      "iii      30      c \n",
      "\n",
      "Exibindo últimas 3 linhas com método '.tail(3)': \n",
      "       idades letras\n",
      "xiii      36      m\n",
      "xiv       33      n\n",
      "xv        39      o \n",
      "\n",
      "Exibindo 3 linhas escolhidas aleatóriamente com método '.sample(3)': \n",
      "      idades letras\n",
      "xii      23      l\n",
      "xiv      33      n\n",
      "iv       30      d \n",
      "\n",
      "<class 'pandas.core.frame.DataFrame'>\n",
      "Index: 15 entries, i to xv\n",
      "Data columns (total 2 columns):\n",
      " #   Column  Non-Null Count  Dtype \n",
      "---  ------  --------------  ----- \n",
      " 0   idades  15 non-null     int64 \n",
      " 1   letras  15 non-null     object\n",
      "dtypes: int64(1), object(1)\n",
      "memory usage: 916.0+ bytes\n",
      "Exibindo informações gerais com método '.info()': \n",
      " None \n",
      "\n"
     ]
    }
   ],
   "source": [
    "# Métodos\n",
    "\n",
    "print(\"Exibindo primeiras 3 linhas com método '.head(3)':\", '\\n', df_pandas.head(3), '\\n') # 5 linhas por defaut caso não informado \n",
    "\n",
    "print(\"Exibindo últimas 3 linhas com método '.tail(3)':\", '\\n', df_pandas.tail(3), '\\n') # 5 linhas por defaut caso não informado\n",
    "\n",
    "print(\"Exibindo 3 linhas escolhidas aleatóriamente com método '.sample(3)':\", '\\n', df_pandas.sample(3), '\\n') # 5 linhas por defaut caso não informado\n",
    "\n",
    "print(\"Exibindo informações gerais com método '.info()':\", '\\n', df_pandas.info(), '\\n') # memory usage = 'deep' motras consumo real de memoria\n"
   ]
  }
 ],
 "metadata": {
  "jupytext": {
   "cell_metadata_filter": "-all",
   "main_language": "python",
   "notebook_metadata_filter": "-all"
  },
  "kernelspec": {
   "display_name": "base",
   "language": "python",
   "name": "python3"
  },
  "language_info": {
   "codemirror_mode": {
    "name": "ipython",
    "version": 3
   },
   "file_extension": ".py",
   "mimetype": "text/x-python",
   "name": "python",
   "nbconvert_exporter": "python",
   "pygments_lexer": "ipython3",
   "version": "3.12.7"
  }
 },
 "nbformat": 4,
 "nbformat_minor": 5
}
