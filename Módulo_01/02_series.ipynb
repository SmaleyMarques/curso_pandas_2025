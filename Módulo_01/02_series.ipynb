{
 "cells": [
  {
   "cell_type": "markdown",
   "id": "213780f0",
   "metadata": {},
   "source": [
    "## Series no Pandas\n",
    "\n",
    "### Características:\n",
    "\n",
    "- Conjunto de Valores de uma dimenção\n",
    "- Ordenado - A ordem defini o índices dos elementos\n",
    "- Homogêneo - Comporta um tipo de dados por elemento\n",
    "- Comportamento parecido com Dicionário e Listas\n",
    "- Aceita valores repetidos, inclusive índices"
   ]
  },
  {
   "cell_type": "code",
   "execution_count": 56,
   "id": "a9587efc",
   "metadata": {
    "lines_to_next_cell": 0
   },
   "outputs": [],
   "source": [
    "# Importando bilibotécas\n",
    "\n",
    "import pandas as pd "
   ]
  },
  {
   "cell_type": "code",
   "execution_count": 57,
   "id": "221759f7",
   "metadata": {},
   "outputs": [
    {
     "name": "stdout",
     "output_type": "stream",
     "text": [
      "Series([], dtype: object) \n",
      "\n"
     ]
    },
    {
     "data": {
      "text/plain": [
       "0     32\n",
       "1     38\n",
       "2     30\n",
       "3     30\n",
       "4     31\n",
       "5     35\n",
       "6     25\n",
       "7     29\n",
       "8     31\n",
       "9     37\n",
       "10    27\n",
       "11    23\n",
       "12    36\n",
       "13    33\n",
       "14    39\n",
       "dtype: int64"
      ]
     },
     "execution_count": 57,
     "metadata": {},
     "output_type": "execute_result"
    }
   ],
   "source": [
    "# CRIANÇÃO\n",
    "\n",
    "series_pandas = pd.Series() #Explícta apenas\n",
    "\n",
    "print(series_pandas, '\\n')\n",
    "\n",
    "idades = [\n",
    "    32, 38, 30, 30, 31,\n",
    "    35, 25, 29, 31, 37,\n",
    "    27, 23, 36, 33, 39\n",
    "]\n",
    "\n",
    "series_idades = pd.Series(idades) # Criando e atribuindo dados na serie\n",
    "series_idades"
   ]
  },
  {
   "cell_type": "markdown",
   "id": "7d7241a1",
   "metadata": {},
   "source": [
    "### Navegando nos dados:\n",
    "\n",
    "- `series[ i ]` - Navega a partir do índice (label)\n",
    "- `series.loc[ i ]` - Exatamente igual a `'series[ i ]'`\n",
    "- `series.iloc[ i ]` - Navega a partir do posição numérica."
   ]
  },
  {
   "cell_type": "code",
   "execution_count": 58,
   "id": "aafd3348",
   "metadata": {
    "lines_to_next_cell": 0
   },
   "outputs": [
    {
     "name": "stdout",
     "output_type": "stream",
     "text": [
      "idade na posição 0: 32\n",
      "series no índice 0: 32\n"
     ]
    }
   ],
   "source": [
    "# series[ i ] \n",
    "\n",
    "navega_lista = idades[0]\n",
    "print('idade na posição 0:', navega_lista) # Navega na posição\n",
    "\n",
    "navega_series = series_idades[0]\n",
    "print('series no índice 0:', navega_series) # Navega no label do índice"
   ]
  },
  {
   "cell_type": "code",
   "execution_count": 59,
   "id": "3e4ba91f",
   "metadata": {},
   "outputs": [
    {
     "name": "stdout",
     "output_type": "stream",
     "text": [
      "Não existe um índice com valor \"-1\" gerando um KeyError\n"
     ]
    }
   ],
   "source": [
    "# series[-1] - KeyError\n",
    "try:\n",
    "    series_idades[-1] # Tentando acessar a última posição pelo índice\n",
    "except KeyError as e:\n",
    "    print(f'Não existe um índice com valor \"{e}\" gerando um KeyError')"
   ]
  },
  {
   "cell_type": "code",
   "execution_count": 60,
   "metadata": {},
   "outputs": [
    {
     "name": "stdout",
     "output_type": "stream",
     "text": [
      "series na posição -1: 39 \n",
      "\n",
      "series na posição 0 até 2: \n",
      " 0    32\n",
      "1    38\n",
      "2    30\n",
      "dtype: int64 \n",
      "\n",
      "series na com posição 6 á 0 (invertida): \n",
      " 6    25\n",
      "5    35\n",
      "4    31\n",
      "3    30\n",
      "2    30\n",
      "1    38\n",
      "dtype: int64 \n",
      "\n",
      "series na com posição pulando um: \n",
      " 0     32\n",
      "2     30\n",
      "4     31\n",
      "6     25\n",
      "8     31\n",
      "10    27\n",
      "12    36\n",
      "14    39\n",
      "dtype: int64 \n",
      "\n"
     ]
    }
   ],
   "source": [
    "# series.iloc[ i ]\n",
    "\n",
    "navega_series = series_idades.iloc[-1] # Ignora índece | Acessa posição\n",
    "print('series na posição -1:', navega_series, \"\\n\") # Navega no índice\n",
    "\n",
    "navega_series = series_idades.iloc[:3] # Slicer\n",
    "print('series na posição 0 até 2:', \"\\n\", navega_series, \"\\n\")\n",
    "\n",
    "navega_series = series_idades.iloc[6:0:-1] # Reverse\n",
    "print('series na com posição 6 á 0 (invertida):', \"\\n\", navega_series, \"\\n\")\n",
    "\n",
    "navega_series = series_idades.iloc[::2] # Jump\n",
    "print('series na com posição pulando um:', \"\\n\", navega_series, \"\\n\")"
   ]
  },
  {
   "cell_type": "code",
   "execution_count": 61,
   "id": "e2e6f5c2",
   "metadata": {
    "lines_to_next_cell": 0
   },
   "outputs": [
    {
     "name": "stdout",
     "output_type": "stream",
     "text": [
      "a    32\n",
      "b    38\n",
      "c    30\n",
      "d    30\n",
      "e    30\n",
      "f    35\n",
      "g    25\n",
      "h    29\n",
      "i    31\n",
      "j    37\n",
      "k    27\n",
      "l    23\n",
      "m    36\n",
      "n    33\n",
      "o    39\n",
      "dtype: int64 \n",
      "\n",
      "series no índice \"h\": 29\n"
     ]
    }
   ],
   "source": [
    "# Alterando labels padrão do index\n",
    "\n",
    "idades = [\n",
    "    32, 38, 30, 30, 30,\n",
    "    35, 25, 29, 31, 37,\n",
    "    27, 23, 36, 33, 39\n",
    "]\n",
    "\n",
    "indexs = [\n",
    "    'a', 'b', 'c', 'd', 'e',\n",
    "    'f', 'g', 'h', 'i', 'j',\n",
    "    'k', 'l', 'm', 'n', 'o'\n",
    "]\n",
    "\n",
    "series_idades = pd.Series(idades, index=indexs)\n",
    "\n",
    "print(series_idades,\"\\n\")\n",
    "\n",
    "navega_series = series_idades['h']\n",
    "print('series no índice \"h\":', navega_series) "
   ]
  },
  {
   "cell_type": "code",
   "execution_count": 62,
   "id": "5e48bce2",
   "metadata": {},
   "outputs": [
    {
     "name": "stdout",
     "output_type": "stream",
     "text": [
      "series no índice \"c\": 30\n"
     ]
    }
   ],
   "source": [
    "# series.loc[ i ]\n",
    "\n",
    "navega_series = series_idades.loc['c'] # Exatamente como series_idades['c']\n",
    "print('series no índice \"c\":', navega_series) \n"
   ]
  },
  {
   "cell_type": "markdown",
   "id": "99d5da25",
   "metadata": {},
   "source": [
    "### Funções úteis:"
   ]
  },
  {
   "cell_type": "code",
   "execution_count": 63,
   "id": "530fc63a",
   "metadata": {},
   "outputs": [
    {
     "name": "stdout",
     "output_type": "stream",
     "text": [
      "Exibindo todos as labels dos índices com atributo '.index': \n",
      " Index(['a', 'b', 'c', 'd', 'e', 'f', 'g', 'h', 'i', 'j', 'k', 'l', 'm', 'n',\n",
      "       'o'],\n",
      "      dtype='object') \n",
      "\n",
      "Exibindo tipagem de dados com atributo '.dtype': \n",
      " int64 \n",
      "\n",
      "Exibindo se a serie esta vazia com atributo '.empty': \n",
      " False \n",
      "\n",
      "Exibindo se a serie possuí valores nulos com atributo '.hasnans': \n",
      " False \n",
      "\n"
     ]
    }
   ],
   "source": [
    "# Atributos\n",
    "\n",
    "print(\"Exibindo todos as labels dos índices com atributo '.index':\", '\\n', series_idades.index, '\\n')\n",
    "\n",
    "print(\"Exibindo tipagem de dados com atributo '.dtype':\", '\\n',series_idades.dtype, '\\n') # mesmo resultado com atributo '.dtypes'\n",
    "\n",
    "print(\"Exibindo se a serie esta vazia com atributo '.empty':\", '\\n',series_idades.empty, '\\n')\n",
    "\n",
    "print(\"Exibindo se a serie possuí valores nulos com atributo '.hasnans':\", '\\n',series_idades.hasnans, '\\n')"
   ]
  },
  {
   "cell_type": "code",
   "execution_count": 64,
   "id": "8436b6c2",
   "metadata": {},
   "outputs": [
    {
     "name": "stdout",
     "output_type": "stream",
     "text": [
      "Exibindo valor máximo da série com método '.max()': \n",
      " 39 \n",
      "\n",
      "Exibindo valor mínimo da série com método '.min()': \n",
      " 23 \n",
      "\n",
      "Exibindo valor médio da série com método '.mean()': \n",
      " 31.666666666666668 \n",
      "\n",
      "Exibindo valor mediano da série com método '.median()': \n",
      " 31.0 \n",
      "\n",
      "Exibindo valor ou valores moda da série com método '.mode()': \n",
      " 0    30\n",
      "dtype: int64 \n",
      "\n"
     ]
    }
   ],
   "source": [
    "# Métodos\n",
    "\n",
    "print(\"Exibindo valor máximo da série com método '.max()':\", '\\n', series_idades.max(), '\\n')\n",
    "\n",
    "print(\"Exibindo valor mínimo da série com método '.min()':\", '\\n', series_idades.min(), '\\n')\n",
    "\n",
    "print(\"Exibindo valor médio da série com método '.mean()':\", '\\n', series_idades.mean(), '\\n')\n",
    "\n",
    "print(\"Exibindo valor mediano da série com método '.median()':\", '\\n', series_idades.median(), '\\n')\n",
    "\n",
    "print(\"Exibindo valor ou valores moda da série com método '.mode()':\", '\\n', series_idades.mode(), '\\n')"
   ]
  }
 ],
 "metadata": {
  "jupytext": {
   "cell_metadata_filter": "-all",
   "main_language": "python",
   "notebook_metadata_filter": "-all"
  },
  "kernelspec": {
   "display_name": "base",
   "language": "python",
   "name": "python3"
  },
  "language_info": {
   "codemirror_mode": {
    "name": "ipython",
    "version": 3
   },
   "file_extension": ".py",
   "mimetype": "text/x-python",
   "name": "python",
   "nbconvert_exporter": "python",
   "pygments_lexer": "ipython3",
   "version": "3.12.7"
  }
 },
 "nbformat": 4,
 "nbformat_minor": 5
}
