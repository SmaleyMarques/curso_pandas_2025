{
 "cells": [
  {
   "cell_type": "code",
   "execution_count": null,
   "id": "a9587efc",
   "metadata": {
    "lines_to_next_cell": 0
   },
   "outputs": [],
   "source": [
    "import pandas as pd\n",
    "\n",
    "idades = [\n",
    "    32, 38, 30, 30, 31,\n",
    "    35, 25, 29, 31, 37,\n",
    "    27, 23, 36, 33, 39\n",
    "]\n",
    "\n",
    "series_idades = pd.Series(idades)\n",
    "series_idades"
   ]
  },
  {
   "cell_type": "code",
   "execution_count": null,
   "id": "aafd3348",
   "metadata": {
    "lines_to_next_cell": 0
   },
   "outputs": [],
   "source": [
    "\n",
    "idades[0]\n",
    "series_idades[0]"
   ]
  },
  {
   "cell_type": "code",
   "execution_count": null,
   "id": "3e4ba91f",
   "metadata": {},
   "outputs": [],
   "source": [
    "# series_idades[-1] # KeyError\n",
    "series_idades.iloc[-1] # Ignora índece"
   ]
  },
  {
   "cell_type": "code",
   "execution_count": null,
   "id": "6d9296c2",
   "metadata": {},
   "outputs": [],
   "source": [
    "series_idades.iloc[:3] # slice"
   ]
  },
  {
   "cell_type": "code",
   "execution_count": null,
   "id": "315b64de",
   "metadata": {},
   "outputs": [],
   "source": [
    "series_idades.iloc[::-1] # reverse"
   ]
  },
  {
   "cell_type": "code",
   "execution_count": null,
   "id": "e2e6f5c2",
   "metadata": {
    "lines_to_next_cell": 0
   },
   "outputs": [],
   "source": [
    "idades = [\n",
    "    32, 38, 30, 30, 31,\n",
    "    35, 25, 29, 31, 37,\n",
    "    27, 23, 36, 33, 39\n",
    "]\n",
    "\n",
    "indexs = [\n",
    "    'a', 'b', 'c', 'd', 'e',\n",
    "    'f', 'g', 'h', 'i', 'j',\n",
    "    'k', 'l', 'm', 'n', 'o'\n",
    "]\n",
    "\n",
    "series_idades = pd.Series(idades, index=indexs)\n",
    "series_idades"
   ]
  },
  {
   "cell_type": "code",
   "execution_count": null,
   "id": "426d607c",
   "metadata": {},
   "outputs": [],
   "source": [
    "series_idades['o']"
   ]
  },
  {
   "cell_type": "code",
   "execution_count": null,
   "id": "5e48bce2",
   "metadata": {},
   "outputs": [],
   "source": [
    "series_idades.loc['o'] # = series_idades['o']"
   ]
  }
 ],
 "metadata": {
  "jupytext": {
   "cell_metadata_filter": "-all",
   "main_language": "python",
   "notebook_metadata_filter": "-all"
  }
 },
 "nbformat": 4,
 "nbformat_minor": 5
}
