{
 "cells": [
  {
   "cell_type": "code",
   "execution_count": null,
   "id": "51fdf2a1",
   "metadata": {
    "lines_to_next_cell": 0
   },
   "outputs": [],
   "source": [
    "\n",
    "# import pandas # Importando bibliotéca\n",
    "import pandas as pd # Apelidando amigávelmente o pandas de pd"
   ]
  },
  {
   "cell_type": "code",
   "execution_count": null,
   "id": "23f4f921",
   "metadata": {
    "lines_to_next_cell": 0
   },
   "outputs": [],
   "source": [
    "# PORQUE DE USAR PANDAS\n",
    "\n",
    "# Calculando SEM Pandas\n",
    "\n",
    "idades = [\n",
    "    32, 38, 30, 30, 31,\n",
    "    35, 25, 29, 31, 37,\n",
    "    27, 23, 36, 33, 32\n",
    "]\n",
    "\n",
    "media = sum(idades)/len(idades)\n",
    "print(f'A média de idades é = {media}')\n",
    "\n",
    "diffs = 0\n",
    "for i in idades:\n",
    "    diffs += (i - media) ** 2\n",
    "\n",
    "variancia = diffs / (len(idades)-1)\n",
    "\n",
    "print(f'A variância das idades é = {variancia}')"
   ]
  },
  {
   "cell_type": "code",
   "execution_count": null,
   "id": "546e582a",
   "metadata": {
    "lines_to_next_cell": 0
   },
   "outputs": [],
   "source": [
    "# USANDO ESTRUTURAS DE DADOS PANDAS\n",
    "\n",
    "series_idades = pd.Series() # Criando serie vazia\n",
    "series_idades = pd.Series(idades) # Atribuindo dados na serie\n",
    "series_idades"
   ]
  },
  {
   "cell_type": "code",
   "execution_count": null,
   "id": "a330de21",
   "metadata": {},
   "outputs": [],
   "source": [
    "\n",
    "# Calculando COM Pandas\n",
    "\n",
    "media_series = series_idades.mean()\n",
    "variancia_series = series_idades.var()\n",
    "\n",
    "print(f\"Média com Series é = {media_series}\")\n",
    "print(f\"Variância com Series é = {variancia_series}\")\n",
    "\n",
    "series_idades.describe()"
   ]
  }
 ],
 "metadata": {
  "jupytext": {
   "cell_metadata_filter": "-all",
   "main_language": "python",
   "notebook_metadata_filter": "-all"
  }
 },
 "nbformat": 4,
 "nbformat_minor": 5
}
