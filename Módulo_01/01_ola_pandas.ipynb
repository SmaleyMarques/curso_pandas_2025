{
 "cells": [
  {
   "cell_type": "markdown",
   "id": "5416c18c",
   "metadata": {},
   "source": [
    "## Bibliotéca Pandas\n",
    "\n",
    "### Principal bibliotéca para manipulação de dados no Python\n"
   ]
  },
  {
   "cell_type": "code",
   "execution_count": null,
   "id": "51fdf2a1",
   "metadata": {
    "lines_to_next_cell": 0
   },
   "outputs": [],
   "source": [
    "\n",
    "# import pandas # Importando bibliotéca\n",
    "\n",
    "import pandas as pd # pd -> Apelidando amigávelmente o pandas para facilitação de uso "
   ]
  },
  {
   "cell_type": "markdown",
   "id": "b9e2df35",
   "metadata": {},
   "source": [
    "## Por que usamos Pantas?"
   ]
  },
  {
   "cell_type": "code",
   "execution_count": null,
   "id": "23f4f921",
   "metadata": {
    "lines_to_next_cell": 0
   },
   "outputs": [
    {
     "data": {
      "text/plain": [
       "A média de idades é = 31.266666666666666\n",
       "A variância das idades é = 18.066666666666666\n"
      ]
     },
     "metadata": {},
     "output_type": "display_data"
    }
   ],
   "source": [
    "# Calculando SEM Pandas\n",
    "\n",
    "idades = [\n",
    "    32, 38, 30, 30, 31,\n",
    "    35, 25, 29, 31, 37,\n",
    "    27, 23, 36, 33, 32\n",
    "]\n",
    "\n",
    "media = sum(idades)/len(idades)\n",
    "print(f'A média de idades é = {media}')\n",
    "\n",
    "diffs = 0\n",
    "for i in idades:\n",
    "    diffs += (i - media) ** 2\n",
    "\n",
    "variancia = diffs / (len(idades)-1)\n",
    "\n",
    "print(f'A variância das idades é = {variancia}')"
   ]
  },
  {
   "cell_type": "code",
   "execution_count": null,
   "id": "a330de21",
   "metadata": {},
   "outputs": [
    {
     "data": {
      "text/plain": [
       "Média com Series é = 31.266666666666666\n",
       "Variância com Series é = 18.066666666666666\n"
      ]
     },
     "metadata": {},
     "output_type": "display_data"
    }
   ],
   "source": [
    "# Calculando COM Pandas\n",
    "\n",
    "series_idades = pd.Series(idades) # Atribuindo dados na serie\n",
    "\n",
    "media_series = series_idades.mean()\n",
    "variancia_series = series_idades.var()\n",
    "\n",
    "print(f\"Média com Series é = {media_series}\")\n",
    "print(f\"Variância com Series é = {variancia_series}\")\n",
    "\n",
    "series_idades.describe()"
   ]
  }
 ],
 "metadata": {
  "jupytext": {
   "cell_metadata_filter": "-all",
   "main_language": "python",
   "notebook_metadata_filter": "-all"
  },
  "language_info": {
   "name": "python"
  }
 },
 "nbformat": 4,
 "nbformat_minor": 5
}
