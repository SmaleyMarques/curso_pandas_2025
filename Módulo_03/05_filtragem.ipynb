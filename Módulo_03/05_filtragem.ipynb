{
 "cells": [
  {
   "cell_type": "code",
   "execution_count": null,
   "id": "067a7efe",
   "metadata": {
    "lines_to_next_cell": 2
   },
   "outputs": [],
   "source": [
    "import pandas as pd"
   ]
  },
  {
   "cell_type": "code",
   "execution_count": null,
   "id": "94ce92e4",
   "metadata": {
    "lines_to_next_cell": 0
   },
   "outputs": [],
   "source": [
    "\n",
    "pontos = [10, 1, 1, 1, 50, 100, 130, 30, 25, 50]\n",
    "\n",
    "valores_acima_50 = [x for x in pontos if x >= 50]\n",
    "print(valores_acima_50)\n",
    "\n",
    "# OU...\n",
    "\n",
    "valores_acima_50 = []\n",
    "filtro = []\n",
    "\n",
    "for i in pontos:\n",
    "    filtro.append(i>=50)\n",
    "\n",
    "resultado = []\n",
    "\n",
    "for i in range(len(pontos)):\n",
    "    if filtro[i]:\n",
    "        resultado.append(pontos[i])\n",
    "\n",
    "print(resultado)"
   ]
  },
  {
   "cell_type": "code",
   "execution_count": null,
   "id": "316791e5",
   "metadata": {
    "lines_to_next_cell": 0
   },
   "outputs": [],
   "source": [
    "\n",
    "df_filtro = pd.DataFrame(\n",
    "    {\n",
    "        \"nome\": ['Smaley', 'Jeniffer', 'Evelyn', 'Kevin'],\n",
    "        \"idade\": [32, 31, 12, 5],\n",
    "        \"cidades_n\": ['SGN', 'NLP', 'RJN', 'RJN']\n",
    "    }\n",
    ")\n",
    "\n",
    "filtro = df_filtro[\"idade\"] > 18\n",
    "\n",
    "df_filtro[filtro]"
   ]
  },
  {
   "cell_type": "code",
   "execution_count": null,
   "id": "3653ef4b",
   "metadata": {},
   "outputs": [],
   "source": [
    "\n",
    "df = pd.read_csv(\"../data/transacoes.csv\")\n",
    "\n",
    "# FILTRANDO PONTOS > 50\n",
    "\n",
    "filtro = df[\"qtdePontos\"] >= 50\n",
    "df[filtro]"
   ]
  },
  {
   "cell_type": "code",
   "execution_count": null,
   "id": "7ba4c670",
   "metadata": {
    "lines_to_next_cell": 2
   },
   "outputs": [],
   "source": [
    "\n",
    "# FILTRANDO PONTOS > 50 E < 100 USANDO OPERADOR \"&\"\n",
    "\n",
    "filtro = (df[\"qtdePontos\"] >= 50) & (df[\"qtdePontos\"] <= 100) \n",
    "# filtro = (df[\"qtdePontos\"] >= 50) * (df[\"qtdePontos\"] <= 100) \n",
    "df[filtro]"
   ]
  },
  {
   "cell_type": "code",
   "execution_count": null,
   "id": "ad16f5d6",
   "metadata": {
    "lines_to_next_cell": 0
   },
   "outputs": [],
   "source": [
    "\n",
    "# FILTRANDO PONTOS = 1 OU PONTOS = 100 USANDO OPERADOR \"|\"\n",
    "\n",
    "filtro = (df[\"qtdePontos\"] >= 50) | (df[\"qtdePontos\"] <= 100)\n",
    "# filtro = (df[\"qtdePontos\"] >= 50) + (df[\"qtdePontos\"] <= 100)\n",
    "df[filtro]"
   ]
  },
  {
   "cell_type": "code",
   "execution_count": null,
   "id": "43f6365e",
   "metadata": {
    "lines_to_next_cell": 0
   },
   "outputs": [],
   "source": [
    "\n",
    "# FILTRANDO PONTOS > 0 E < 50, E DATA >=2025 USANDO OPERADOR \"|\"\n",
    "\n",
    "filtro = (df[\"qtdePontos\"] > 0) & (df[\"qtdePontos\"] < 50) & (df[\"dtCriacao\"] >= '2025-01-01')\n",
    "# filtro = (df[\"qtdePontos\"] > 0) * (df[\"qtdePontos\"] < 50) * (df[\"dtCriacao\"] >= '2025-01-01')\n",
    "df[filtro]"
   ]
  },
  {
   "cell_type": "code",
   "execution_count": null,
   "id": "25161bf4",
   "metadata": {},
   "outputs": [],
   "source": [
    "\n",
    "# FILTRANDO PONTOS > 0 E < 50, OU DATA >=2025 USANDO OPERADOR \"|\"\n",
    "\n",
    "filtro = (df[\"qtdePontos\"] > 0) & (df[\"qtdePontos\"] < 50) | (df[\"dtCriacao\"] >= '2025-01-01')\n",
    "# filtro = (df[\"qtdePontos\"] > 0) * (df[\"qtdePontos\"] < 50) + (df[\"dtCriacao\"] >= '2025-01-01')\n",
    "df[filtro]"
   ]
  },
  {
   "cell_type": "code",
   "execution_count": null,
   "id": "5386a35d",
   "metadata": {},
   "outputs": [],
   "source": [
    "\n",
    "# Usando método '.isin' e passando uma lista\n",
    "\n",
    "df_novo =pd.read_csv(\"../data/transacao_produto.csv\")\n",
    "\n",
    "# filtro = (df_novo['idProduto'] == 1) | (df_novo['idProduto'] == 5)\n",
    "filtro = df_novo['idProduto'].isin([1,5])\n",
    "df_novo[filtro]"
   ]
  },
  {
   "cell_type": "code",
   "execution_count": null,
   "id": "7152ed55",
   "metadata": {},
   "outputs": [],
   "source": [
    "\n",
    "# Usando método '.notna' \n",
    "\n",
    "df_novo2 =pd.read_csv(\"../data/clientes.csv\")\n",
    "\n",
    "# filtro = ~df_novo2['dtCriacao'].isna()\n",
    "filtro = df_novo2['dtCriacao'].notna()\n",
    "df_novo2[filtro]"
   ]
  }
 ],
 "metadata": {
  "jupytext": {
   "cell_metadata_filter": "-all",
   "main_language": "python",
   "notebook_metadata_filter": "-all"
  }
 },
 "nbformat": 4,
 "nbformat_minor": 5
}
